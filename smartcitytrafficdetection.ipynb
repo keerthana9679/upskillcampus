{
 "cells": [
  {
   "cell_type": "markdown",
   "id": "de670f43",
   "metadata": {
    "papermill": {
     "duration": 0.01856,
     "end_time": "2023-08-21T02:56:37.480705",
     "exception": false,
     "start_time": "2023-08-21T02:56:37.462145",
     "status": "completed"
    },
    "tags": []
   },
   "source": [
    "# Loading the dataset"
   ]
  },
  {
   "cell_type": "code",
   "execution_count": null,
   "id": "1bbc7203",
   "metadata": {
    "execution": {
     "iopub.execute_input": "2023-08-21T02:56:37.519401Z",
     "iopub.status.busy": "2023-08-21T02:56:37.518982Z",
     "iopub.status.idle": "2023-08-21T02:56:37.654685Z",
     "shell.execute_reply": "2023-08-21T02:56:37.653314Z"
    },
    "papermill": {
     "duration": 0.160654,
     "end_time": "2023-08-21T02:56:37.658598",
     "exception": false,
     "start_time": "2023-08-21T02:56:37.497944",
     "status": "completed"
    },
    "tags": []
   },
   "outputs": [],
   "source": [
    "import pandas as pd\n",
    "\n",
    "df = pd.read_csv(\"/kaggle/input/smart-city-traffic-patterns/train_aWnotuB.csv\")\n",
    "df"
   ]
  },
  {
   "cell_type": "code",
   "execution_count": null,
   "id": "3283e7b5",
   "metadata": {
    "execution": {
     "iopub.execute_input": "2023-08-21T02:56:37.697907Z",
     "iopub.status.busy": "2023-08-21T02:56:37.696639Z",
     "iopub.status.idle": "2023-08-21T02:56:37.750819Z",
     "shell.execute_reply": "2023-08-21T02:56:37.749146Z"
    },
    "papermill": {
     "duration": 0.077223,
     "end_time": "2023-08-21T02:56:37.753760",
     "exception": false,
     "start_time": "2023-08-21T02:56:37.676537",
     "status": "completed"
    },
    "tags": []
   },
   "outputs": [],
   "source": [
    "import numpy as np\n",
    "df.info()"
   ]
  },
  {
   "cell_type": "markdown",
   "id": "123b4550",
   "metadata": {
    "papermill": {
     "duration": 0.018391,
     "end_time": "2023-08-21T02:56:37.790819",
     "exception": false,
     "start_time": "2023-08-21T02:56:37.772428",
     "status": "completed"
    },
    "tags": []
   },
   "source": [
    "# EDA"
   ]
  },
  {
   "cell_type": "code",
   "execution_count": null,
   "id": "d5f45196",
   "metadata": {
    "execution": {
     "iopub.execute_input": "2023-08-21T02:56:37.829257Z",
     "iopub.status.busy": "2023-08-21T02:56:37.828387Z",
     "iopub.status.idle": "2023-08-21T02:56:37.854847Z",
     "shell.execute_reply": "2023-08-21T02:56:37.853299Z"
    },
    "papermill": {
     "duration": 0.049065,
     "end_time": "2023-08-21T02:56:37.857874",
     "exception": false,
     "start_time": "2023-08-21T02:56:37.808809",
     "status": "completed"
    },
    "scrolled": true,
    "tags": []
   },
   "outputs": [],
   "source": [
    "df.isnull().sum()"
   ]
  },
  {
   "cell_type": "code",
   "execution_count": null,
   "id": "9dfb998b",
   "metadata": {
    "execution": {
     "iopub.execute_input": "2023-08-21T02:56:37.898384Z",
     "iopub.status.busy": "2023-08-21T02:56:37.897248Z",
     "iopub.status.idle": "2023-08-21T02:56:37.927033Z",
     "shell.execute_reply": "2023-08-21T02:56:37.925048Z"
    },
    "papermill": {
     "duration": 0.05356,
     "end_time": "2023-08-21T02:56:37.930288",
     "exception": false,
     "start_time": "2023-08-21T02:56:37.876728",
     "status": "completed"
    },
    "tags": []
   },
   "outputs": [],
   "source": [
    "df.duplicated()"
   ]
  },
  {
   "cell_type": "code",
   "execution_count": null,
   "id": "d7355062",
   "metadata": {
    "execution": {
     "iopub.execute_input": "2023-08-21T02:56:37.969378Z",
     "iopub.status.busy": "2023-08-21T02:56:37.968537Z",
     "iopub.status.idle": "2023-08-21T02:56:38.004078Z",
     "shell.execute_reply": "2023-08-21T02:56:38.002063Z"
    },
    "papermill": {
     "duration": 0.059446,
     "end_time": "2023-08-21T02:56:38.007791",
     "exception": false,
     "start_time": "2023-08-21T02:56:37.948345",
     "status": "completed"
    },
    "tags": []
   },
   "outputs": [],
   "source": [
    "df = df.drop_duplicates()\n",
    "df"
   ]
  },
  {
   "cell_type": "code",
   "execution_count": null,
   "id": "5f02373d",
   "metadata": {
    "execution": {
     "iopub.execute_input": "2023-08-21T02:56:38.048255Z",
     "iopub.status.busy": "2023-08-21T02:56:38.047423Z",
     "iopub.status.idle": "2023-08-21T02:56:38.054231Z",
     "shell.execute_reply": "2023-08-21T02:56:38.053253Z"
    },
    "papermill": {
     "duration": 0.028958,
     "end_time": "2023-08-21T02:56:38.056648",
     "exception": false,
     "start_time": "2023-08-21T02:56:38.027690",
     "status": "completed"
    },
    "tags": []
   },
   "outputs": [],
   "source": [
    "df.shape"
   ]
  },
  {
   "cell_type": "code",
   "execution_count": null,
   "id": "36a65e23",
   "metadata": {
    "execution": {
     "iopub.execute_input": "2023-08-21T02:56:38.096654Z",
     "iopub.status.busy": "2023-08-21T02:56:38.095673Z",
     "iopub.status.idle": "2023-08-21T02:56:38.132333Z",
     "shell.execute_reply": "2023-08-21T02:56:38.131037Z"
    },
    "papermill": {
     "duration": 0.060176,
     "end_time": "2023-08-21T02:56:38.135224",
     "exception": false,
     "start_time": "2023-08-21T02:56:38.075048",
     "status": "completed"
    },
    "tags": []
   },
   "outputs": [],
   "source": [
    "df.describe()"
   ]
  },
  {
   "cell_type": "code",
   "execution_count": null,
   "id": "759a66b6",
   "metadata": {
    "execution": {
     "iopub.execute_input": "2023-08-21T02:56:38.173725Z",
     "iopub.status.busy": "2023-08-21T02:56:38.173310Z",
     "iopub.status.idle": "2023-08-21T02:56:38.417909Z",
     "shell.execute_reply": "2023-08-21T02:56:38.416382Z"
    },
    "papermill": {
     "duration": 0.267582,
     "end_time": "2023-08-21T02:56:38.421078",
     "exception": false,
     "start_time": "2023-08-21T02:56:38.153496",
     "status": "completed"
    },
    "tags": []
   },
   "outputs": [],
   "source": [
    "df['DateTime'] = pd.to_datetime(df['DateTime'])  \n",
    "\n",
    "df['Date'] = df['DateTime'].dt.date\n",
    "df['Time'] = df['DateTime'].dt.time\n",
    "\n",
    "df['Date'] = df['Date'].astype(str)\n",
    "df['Time'] = df['Time'].astype(str)"
   ]
  },
  {
   "cell_type": "code",
   "execution_count": null,
   "id": "67f119a7",
   "metadata": {
    "execution": {
     "iopub.execute_input": "2023-08-21T02:56:38.460481Z",
     "iopub.status.busy": "2023-08-21T02:56:38.460075Z",
     "iopub.status.idle": "2023-08-21T02:56:38.471114Z",
     "shell.execute_reply": "2023-08-21T02:56:38.469533Z"
    },
    "papermill": {
     "duration": 0.033723,
     "end_time": "2023-08-21T02:56:38.473888",
     "exception": false,
     "start_time": "2023-08-21T02:56:38.440165",
     "status": "completed"
    },
    "tags": []
   },
   "outputs": [],
   "source": [
    "df = df.drop('DateTime', axis = 1)"
   ]
  },
  {
   "cell_type": "code",
   "execution_count": null,
   "id": "d97b837e",
   "metadata": {
    "execution": {
     "iopub.execute_input": "2023-08-21T02:56:38.512616Z",
     "iopub.status.busy": "2023-08-21T02:56:38.512203Z",
     "iopub.status.idle": "2023-08-21T02:56:38.528986Z",
     "shell.execute_reply": "2023-08-21T02:56:38.527808Z"
    },
    "papermill": {
     "duration": 0.039051,
     "end_time": "2023-08-21T02:56:38.531412",
     "exception": false,
     "start_time": "2023-08-21T02:56:38.492361",
     "status": "completed"
    },
    "tags": []
   },
   "outputs": [],
   "source": [
    "df"
   ]
  },
  {
   "cell_type": "code",
   "execution_count": null,
   "id": "09457d9b",
   "metadata": {
    "execution": {
     "iopub.execute_input": "2023-08-21T02:56:38.572563Z",
     "iopub.status.busy": "2023-08-21T02:56:38.572059Z",
     "iopub.status.idle": "2023-08-21T02:56:38.620594Z",
     "shell.execute_reply": "2023-08-21T02:56:38.618755Z"
    },
    "papermill": {
     "duration": 0.072657,
     "end_time": "2023-08-21T02:56:38.624007",
     "exception": false,
     "start_time": "2023-08-21T02:56:38.551350",
     "status": "completed"
    },
    "tags": []
   },
   "outputs": [],
   "source": [
    "df['Date'] = pd.to_datetime(df['Date'])\n",
    "\n",
    "df['DayOfWeek'] = df['Date'].dt.dayofweek\n",
    "\n",
    "df['Month'] = df['Date'].dt.month\n",
    "\n",
    "df['Year'] = df['Date'].dt.year"
   ]
  },
  {
   "cell_type": "code",
   "execution_count": null,
   "id": "05380f59",
   "metadata": {
    "execution": {
     "iopub.execute_input": "2023-08-21T02:56:38.668483Z",
     "iopub.status.busy": "2023-08-21T02:56:38.668018Z",
     "iopub.status.idle": "2023-08-21T02:56:38.684465Z",
     "shell.execute_reply": "2023-08-21T02:56:38.683007Z"
    },
    "papermill": {
     "duration": 0.042738,
     "end_time": "2023-08-21T02:56:38.687891",
     "exception": false,
     "start_time": "2023-08-21T02:56:38.645153",
     "status": "completed"
    },
    "tags": []
   },
   "outputs": [],
   "source": [
    "df.head()"
   ]
  },
  {
   "cell_type": "code",
   "execution_count": null,
   "id": "6e211483",
   "metadata": {
    "execution": {
     "iopub.execute_input": "2023-08-21T02:56:38.730828Z",
     "iopub.status.busy": "2023-08-21T02:56:38.730416Z",
     "iopub.status.idle": "2023-08-21T02:56:38.745805Z",
     "shell.execute_reply": "2023-08-21T02:56:38.744430Z"
    },
    "papermill": {
     "duration": 0.039875,
     "end_time": "2023-08-21T02:56:38.748580",
     "exception": false,
     "start_time": "2023-08-21T02:56:38.708705",
     "status": "completed"
    },
    "tags": []
   },
   "outputs": [],
   "source": [
    "df.tail()"
   ]
  },
  {
   "cell_type": "code",
   "execution_count": null,
   "id": "e2cb67cb",
   "metadata": {
    "execution": {
     "iopub.execute_input": "2023-08-21T02:56:38.792819Z",
     "iopub.status.busy": "2023-08-21T02:56:38.792360Z",
     "iopub.status.idle": "2023-08-21T02:56:39.439902Z",
     "shell.execute_reply": "2023-08-21T02:56:39.437979Z"
    },
    "papermill": {
     "duration": 0.673473,
     "end_time": "2023-08-21T02:56:39.443348",
     "exception": false,
     "start_time": "2023-08-21T02:56:38.769875",
     "status": "completed"
    },
    "tags": []
   },
   "outputs": [],
   "source": [
    "import holidays\n",
    "df['Date'] = pd.to_datetime(df['Date'])\n",
    "\n",
    "indian_holidays = holidays.India(years=df['Date'].dt.year.unique())\n",
    "\n",
    "# Custom function to check if the date is a holiday in India\n",
    "def is_holiday_in_india(date):\n",
    "    return date in indian_holidays\n",
    "\n",
    "# Apply the custom function to the 'Date' column\n",
    "df['IsHoliday'] = df['Date'].apply(lambda x: is_holiday_in_india(x))"
   ]
  },
  {
   "cell_type": "code",
   "execution_count": null,
   "id": "8e4f0b85",
   "metadata": {
    "execution": {
     "iopub.execute_input": "2023-08-21T02:56:39.487817Z",
     "iopub.status.busy": "2023-08-21T02:56:39.487355Z",
     "iopub.status.idle": "2023-08-21T02:56:39.504661Z",
     "shell.execute_reply": "2023-08-21T02:56:39.503240Z"
    },
    "papermill": {
     "duration": 0.043552,
     "end_time": "2023-08-21T02:56:39.508102",
     "exception": false,
     "start_time": "2023-08-21T02:56:39.464550",
     "status": "completed"
    },
    "tags": []
   },
   "outputs": [],
   "source": [
    "df.head()"
   ]
  },
  {
   "cell_type": "code",
   "execution_count": null,
   "id": "35852df9",
   "metadata": {
    "execution": {
     "iopub.execute_input": "2023-08-21T02:56:39.552563Z",
     "iopub.status.busy": "2023-08-21T02:56:39.552114Z",
     "iopub.status.idle": "2023-08-21T02:56:39.563686Z",
     "shell.execute_reply": "2023-08-21T02:56:39.562244Z"
    },
    "papermill": {
     "duration": 0.036825,
     "end_time": "2023-08-21T02:56:39.566479",
     "exception": false,
     "start_time": "2023-08-21T02:56:39.529654",
     "status": "completed"
    },
    "tags": []
   },
   "outputs": [],
   "source": [
    "df['IsHoliday'].unique()"
   ]
  },
  {
   "cell_type": "code",
   "execution_count": null,
   "id": "9d76f7c3",
   "metadata": {
    "execution": {
     "iopub.execute_input": "2023-08-21T02:56:39.614682Z",
     "iopub.status.busy": "2023-08-21T02:56:39.614266Z",
     "iopub.status.idle": "2023-08-21T02:56:39.635408Z",
     "shell.execute_reply": "2023-08-21T02:56:39.633992Z"
    },
    "papermill": {
     "duration": 0.047108,
     "end_time": "2023-08-21T02:56:39.638093",
     "exception": false,
     "start_time": "2023-08-21T02:56:39.590985",
     "status": "completed"
    },
    "tags": []
   },
   "outputs": [],
   "source": [
    "# Removing unnecessary columns\n",
    "\n",
    "df = df.drop(['ID'], axis = 1)\n",
    "df.head()"
   ]
  },
  {
   "cell_type": "code",
   "execution_count": null,
   "id": "0ba48c45",
   "metadata": {
    "execution": {
     "iopub.execute_input": "2023-08-21T02:56:39.684400Z",
     "iopub.status.busy": "2023-08-21T02:56:39.684013Z",
     "iopub.status.idle": "2023-08-21T02:56:42.680495Z",
     "shell.execute_reply": "2023-08-21T02:56:42.678476Z"
    },
    "papermill": {
     "duration": 3.024059,
     "end_time": "2023-08-21T02:56:42.684181",
     "exception": false,
     "start_time": "2023-08-21T02:56:39.660122",
     "status": "completed"
    },
    "tags": []
   },
   "outputs": [],
   "source": [
    "# Visualization \n",
    "\n",
    "import plotly.express as px\n",
    "import plotly.graph_objects as go\n",
    "import plotly.io as pio\n",
    "pio.templates.default = \"plotly_white\""
   ]
  },
  {
   "cell_type": "code",
   "execution_count": null,
   "id": "956f3b8d",
   "metadata": {
    "execution": {
     "iopub.execute_input": "2023-08-21T02:56:42.733407Z",
     "iopub.status.busy": "2023-08-21T02:56:42.732868Z",
     "iopub.status.idle": "2023-08-21T02:56:44.216226Z",
     "shell.execute_reply": "2023-08-21T02:56:44.214350Z"
    },
    "papermill": {
     "duration": 1.533862,
     "end_time": "2023-08-21T02:56:44.241412",
     "exception": false,
     "start_time": "2023-08-21T02:56:42.707550",
     "status": "completed"
    },
    "tags": []
   },
   "outputs": [],
   "source": [
    "fig = px.line(df, x='Date', y='Vehicles', title='Traffic Volume over Time')\n",
    "fig.show()"
   ]
  },
  {
   "cell_type": "code",
   "execution_count": null,
   "id": "56cc1080",
   "metadata": {
    "execution": {
     "iopub.execute_input": "2023-08-21T02:56:44.316444Z",
     "iopub.status.busy": "2023-08-21T02:56:44.315896Z",
     "iopub.status.idle": "2023-08-21T02:56:44.353605Z",
     "shell.execute_reply": "2023-08-21T02:56:44.351761Z"
    },
    "papermill": {
     "duration": 0.079694,
     "end_time": "2023-08-21T02:56:44.356813",
     "exception": false,
     "start_time": "2023-08-21T02:56:44.277119",
     "status": "completed"
    },
    "tags": []
   },
   "outputs": [],
   "source": [
    "# Grouping by Junction and looking at the statistical measures\n",
    "junction_stats = df.groupby('Junction')['Vehicles'].describe()\n",
    "print(junction_stats)"
   ]
  },
  {
   "cell_type": "markdown",
   "id": "16b9c1dd",
   "metadata": {
    "papermill": {
     "duration": 0.035651,
     "end_time": "2023-08-21T02:56:44.429972",
     "exception": false,
     "start_time": "2023-08-21T02:56:44.394321",
     "status": "completed"
    },
    "tags": []
   },
   "source": [
    "# Visualization"
   ]
  },
  {
   "cell_type": "markdown",
   "id": "122b57cf",
   "metadata": {
    "papermill": {
     "duration": 0.035191,
     "end_time": "2023-08-21T02:56:44.499982",
     "exception": false,
     "start_time": "2023-08-21T02:56:44.464791",
     "status": "completed"
    },
    "tags": []
   },
   "source": [
    "## Bar plot for junction"
   ]
  },
  {
   "cell_type": "code",
   "execution_count": null,
   "id": "8017b523",
   "metadata": {
    "execution": {
     "iopub.execute_input": "2023-08-21T02:56:44.572182Z",
     "iopub.status.busy": "2023-08-21T02:56:44.571690Z",
     "iopub.status.idle": "2023-08-21T02:56:44.920711Z",
     "shell.execute_reply": "2023-08-21T02:56:44.918823Z"
    },
    "papermill": {
     "duration": 0.389287,
     "end_time": "2023-08-21T02:56:44.923968",
     "exception": false,
     "start_time": "2023-08-21T02:56:44.534681",
     "status": "completed"
    },
    "tags": []
   },
   "outputs": [],
   "source": [
    "import matplotlib.pyplot as plt\n",
    "df.groupby('Junction')['Vehicles'].mean().plot(kind='bar')\n",
    "plt.xlabel('Junction')\n",
    "plt.ylabel('Average Vehicles')\n",
    "plt.title('Average Vehicles by Junction')\n",
    "plt.show()"
   ]
  },
  {
   "cell_type": "markdown",
   "id": "f88e9ea1",
   "metadata": {
    "papermill": {
     "duration": 0.035163,
     "end_time": "2023-08-21T02:56:44.997328",
     "exception": false,
     "start_time": "2023-08-21T02:56:44.962165",
     "status": "completed"
    },
    "tags": []
   },
   "source": [
    "# Box plot for IsHoliday"
   ]
  },
  {
   "cell_type": "code",
   "execution_count": null,
   "id": "7b2cd28d",
   "metadata": {
    "execution": {
     "iopub.execute_input": "2023-08-21T02:56:45.078236Z",
     "iopub.status.busy": "2023-08-21T02:56:45.077692Z",
     "iopub.status.idle": "2023-08-21T02:56:45.473509Z",
     "shell.execute_reply": "2023-08-21T02:56:45.471797Z"
    },
    "papermill": {
     "duration": 0.437177,
     "end_time": "2023-08-21T02:56:45.476590",
     "exception": false,
     "start_time": "2023-08-21T02:56:45.039413",
     "status": "completed"
    },
    "tags": []
   },
   "outputs": [],
   "source": [
    "df.boxplot(column='Vehicles', by='IsHoliday')\n",
    "plt.xlabel('Is Holiday')\n",
    "plt.ylabel('Vehicles')\n",
    "plt.title('Distribution of Vehicles by Holiday')\n",
    "plt.show()"
   ]
  },
  {
   "cell_type": "markdown",
   "id": "3261501f",
   "metadata": {
    "papermill": {
     "duration": 0.034391,
     "end_time": "2023-08-21T02:56:45.547730",
     "exception": false,
     "start_time": "2023-08-21T02:56:45.513339",
     "status": "completed"
    },
    "tags": []
   },
   "source": [
    "## Hypothesis Testing : t-test"
   ]
  },
  {
   "cell_type": "code",
   "execution_count": null,
   "id": "7d387dad",
   "metadata": {
    "execution": {
     "iopub.execute_input": "2023-08-21T02:56:45.620842Z",
     "iopub.status.busy": "2023-08-21T02:56:45.620156Z",
     "iopub.status.idle": "2023-08-21T02:56:46.745618Z",
     "shell.execute_reply": "2023-08-21T02:56:46.743774Z"
    },
    "papermill": {
     "duration": 1.166202,
     "end_time": "2023-08-21T02:56:46.748738",
     "exception": false,
     "start_time": "2023-08-21T02:56:45.582536",
     "status": "completed"
    },
    "tags": []
   },
   "outputs": [],
   "source": [
    "from scipy.stats import ttest_ind\n",
    "\n",
    "junction_1 = df[df['Junction'] == 1]['Vehicles']\n",
    "junction_2 = df[df['Junction'] == 2]['Vehicles']\n",
    "\n",
    "t_stat, p_value = ttest_ind(junction_1, junction_2)\n",
    "print(f\"t-statistic: {t_stat}, p-value: {p_value}\")"
   ]
  },
  {
   "cell_type": "markdown",
   "id": "9f3e379d",
   "metadata": {
    "papermill": {
     "duration": 0.034384,
     "end_time": "2023-08-21T02:56:46.819011",
     "exception": false,
     "start_time": "2023-08-21T02:56:46.784627",
     "status": "completed"
    },
    "tags": []
   },
   "source": [
    "### This signifies that the t-statistic of 153.93 indicates a substantial difference between the average number of vehicles for the two junctions.\n",
    "\n",
    "### A p-value of 0.0 indicates an extremely low probability of observing the data under the assumption that there is no difference between the means of the two groups, suggesting that the null hypothesis can be rejected."
   ]
  },
  {
   "cell_type": "markdown",
   "id": "173ce5c1",
   "metadata": {
    "papermill": {
     "duration": 0.03736,
     "end_time": "2023-08-21T02:56:46.891141",
     "exception": false,
     "start_time": "2023-08-21T02:56:46.853781",
     "status": "completed"
    },
    "tags": []
   },
   "source": [
    "# Feature Engineering"
   ]
  },
  {
   "cell_type": "markdown",
   "id": "4e4adc01",
   "metadata": {
    "papermill": {
     "duration": 0.036629,
     "end_time": "2023-08-21T02:56:46.966058",
     "exception": false,
     "start_time": "2023-08-21T02:56:46.929429",
     "status": "completed"
    },
    "tags": []
   },
   "source": [
    "## Creating lag features to capture any time-dependant features"
   ]
  },
  {
   "cell_type": "code",
   "execution_count": null,
   "id": "a9018ee5",
   "metadata": {
    "execution": {
     "iopub.execute_input": "2023-08-21T02:56:47.047382Z",
     "iopub.status.busy": "2023-08-21T02:56:47.046889Z",
     "iopub.status.idle": "2023-08-21T02:56:47.056590Z",
     "shell.execute_reply": "2023-08-21T02:56:47.055500Z"
    },
    "papermill": {
     "duration": 0.055519,
     "end_time": "2023-08-21T02:56:47.059223",
     "exception": false,
     "start_time": "2023-08-21T02:56:47.003704",
     "status": "completed"
    },
    "tags": []
   },
   "outputs": [],
   "source": [
    "df['PreviousDayVehicles'] = df['Vehicles'].shift(24)\n",
    "df['PreviousHourVehicles'] = df['Vehicles'].shift(1)"
   ]
  },
  {
   "cell_type": "code",
   "execution_count": null,
   "id": "0a8ae1a9",
   "metadata": {
    "execution": {
     "iopub.execute_input": "2023-08-21T02:56:47.135114Z",
     "iopub.status.busy": "2023-08-21T02:56:47.134652Z",
     "iopub.status.idle": "2023-08-21T02:56:47.152705Z",
     "shell.execute_reply": "2023-08-21T02:56:47.150930Z"
    },
    "papermill": {
     "duration": 0.059819,
     "end_time": "2023-08-21T02:56:47.155827",
     "exception": false,
     "start_time": "2023-08-21T02:56:47.096008",
     "status": "completed"
    },
    "scrolled": true,
    "tags": []
   },
   "outputs": [],
   "source": [
    "df.head()"
   ]
  },
  {
   "cell_type": "code",
   "execution_count": null,
   "id": "10663b86",
   "metadata": {
    "execution": {
     "iopub.execute_input": "2023-08-21T02:56:47.233696Z",
     "iopub.status.busy": "2023-08-21T02:56:47.233233Z",
     "iopub.status.idle": "2023-08-21T02:56:47.262495Z",
     "shell.execute_reply": "2023-08-21T02:56:47.261134Z"
    },
    "papermill": {
     "duration": 0.070916,
     "end_time": "2023-08-21T02:56:47.265283",
     "exception": false,
     "start_time": "2023-08-21T02:56:47.194367",
     "status": "completed"
    },
    "tags": []
   },
   "outputs": [],
   "source": [
    "df.isnull().sum()"
   ]
  },
  {
   "cell_type": "code",
   "execution_count": null,
   "id": "52d49684",
   "metadata": {
    "execution": {
     "iopub.execute_input": "2023-08-21T02:56:47.344671Z",
     "iopub.status.busy": "2023-08-21T02:56:47.344264Z",
     "iopub.status.idle": "2023-08-21T02:56:47.364494Z",
     "shell.execute_reply": "2023-08-21T02:56:47.363494Z"
    },
    "papermill": {
     "duration": 0.063509,
     "end_time": "2023-08-21T02:56:47.366927",
     "exception": false,
     "start_time": "2023-08-21T02:56:47.303418",
     "status": "completed"
    },
    "tags": []
   },
   "outputs": [],
   "source": [
    "df['PreviousDayVehicles'].fillna(0,inplace = True)\n",
    "df['PreviousHourVehicles'].fillna(0,inplace = True)\n",
    "df.head()"
   ]
  },
  {
   "cell_type": "markdown",
   "id": "f08f320f",
   "metadata": {
    "papermill": {
     "duration": 0.039268,
     "end_time": "2023-08-21T02:56:47.444557",
     "exception": false,
     "start_time": "2023-08-21T02:56:47.405289",
     "status": "completed"
    },
    "tags": []
   },
   "source": [
    "# Splitting the Data:\n"
   ]
  },
  {
   "cell_type": "code",
   "execution_count": null,
   "id": "beacd8ab",
   "metadata": {
    "execution": {
     "iopub.execute_input": "2023-08-21T02:56:47.523217Z",
     "iopub.status.busy": "2023-08-21T02:56:47.522562Z",
     "iopub.status.idle": "2023-08-21T02:56:47.838651Z",
     "shell.execute_reply": "2023-08-21T02:56:47.837064Z"
    },
    "papermill": {
     "duration": 0.358833,
     "end_time": "2023-08-21T02:56:47.841514",
     "exception": false,
     "start_time": "2023-08-21T02:56:47.482681",
     "status": "completed"
    },
    "tags": []
   },
   "outputs": [],
   "source": [
    "from sklearn.model_selection import train_test_split\n",
    "\n",
    "train_df, test_df = train_test_split(df, test_size=0.2, shuffle=False)\n",
    "\n",
    "# Printing the sizes of the training and testing sets\n",
    "print(f\"Training set size: {len(train_df)}\")\n",
    "print(f\"Testing set size: {len(test_df)}\")"
   ]
  },
  {
   "cell_type": "markdown",
   "id": "eb9ccf40",
   "metadata": {
    "papermill": {
     "duration": 0.038977,
     "end_time": "2023-08-21T02:56:47.920423",
     "exception": false,
     "start_time": "2023-08-21T02:56:47.881446",
     "status": "completed"
    },
    "tags": []
   },
   "source": [
    "# Modeling and Evaluation"
   ]
  },
  {
   "cell_type": "code",
   "execution_count": null,
   "id": "f9445f1b",
   "metadata": {
    "execution": {
     "iopub.execute_input": "2023-08-21T02:56:48.001264Z",
     "iopub.status.busy": "2023-08-21T02:56:48.000393Z",
     "iopub.status.idle": "2023-08-21T02:56:48.540052Z",
     "shell.execute_reply": "2023-08-21T02:56:48.538774Z"
    },
    "papermill": {
     "duration": 0.582621,
     "end_time": "2023-08-21T02:56:48.541781",
     "exception": true,
     "start_time": "2023-08-21T02:56:47.959160",
     "status": "failed"
    },
    "tags": []
   },
   "outputs": [],
   "source": [
    "plt.figure(figsize=(12, 6))\n",
    "plt.plot(target.index, target.values, label='Historical Traffic', color='b')\n",
    "plt.plot(train_forecast_df.index, train_forecast_df['Vehicles'], label='Forecasted Traffic', color='r')\n",
    "plt.xlabel('Time')\n",
    "plt.ylabel('Traffic (Vehicles)')\n",
    "plt.title('Historical and Forecasted Traffic Patterns for the Training Set')\n",
    "plt.legend()\n",
    "plt.show()"
   ]
  },
  {
   "cell_type": "markdown",
   "id": "068488af",
   "metadata": {
    "papermill": {
     "duration": null,
     "end_time": null,
     "exception": null,
     "start_time": null,
     "status": "pending"
    },
    "tags": []
   },
   "source": [
    "# Transitioning to LSTM"
   ]
  },
  {
   "cell_type": "code",
   "execution_count": null,
   "id": "92fc602d",
   "metadata": {
    "papermill": {
     "duration": null,
     "end_time": null,
     "exception": null,
     "start_time": null,
     "status": "pending"
    },
    "tags": []
   },
   "outputs": [],
   "source": [
    "from keras.models import Sequential\n",
    "from keras.layers import LSTM, Dense"
   ]
  },
  {
   "cell_type": "code",
   "execution_count": null,
   "id": "86c8e420",
   "metadata": {
    "papermill": {
     "duration": null,
     "end_time": null,
     "exception": null,
     "start_time": null,
     "status": "pending"
    },
    "tags": []
   },
   "outputs": [],
   "source": [
    "df.head()"
   ]
  },
  {
   "cell_type": "code",
   "execution_count": null,
   "id": "8c52f9ad",
   "metadata": {
    "papermill": {
     "duration": null,
     "end_time": null,
     "exception": null,
     "start_time": null,
     "status": "pending"
    },
    "tags": []
   },
   "outputs": [],
   "source": [
    "from sklearn.preprocessing import MinMaxScaler\n",
    "\n",
    "# Converting 'Vehicles' column to float\n",
    "df['Vehicles'] = df['Vehicles'].astype(float)\n",
    "\n",
    "# Normalizing 'Vehicles' column using MinMaxScaler\n",
    "scaler = MinMaxScaler()\n",
    "df[['Vehicles']] = scaler.fit_transform(df[['Vehicles']])"
   ]
  },
  {
   "cell_type": "code",
   "execution_count": null,
   "id": "886bb251",
   "metadata": {
    "papermill": {
     "duration": null,
     "end_time": null,
     "exception": null,
     "start_time": null,
     "status": "pending"
    },
    "scrolled": true,
    "tags": []
   },
   "outputs": [],
   "source": [
    "df.head()"
   ]
  },
  {
   "cell_type": "code",
   "execution_count": null,
   "id": "aefcfe30",
   "metadata": {
    "papermill": {
     "duration": null,
     "end_time": null,
     "exception": null,
     "start_time": null,
     "status": "pending"
    },
    "scrolled": true,
    "tags": []
   },
   "outputs": [],
   "source": [
    "df.dtypes"
   ]
  },
  {
   "cell_type": "code",
   "execution_count": null,
   "id": "a97573e4",
   "metadata": {
    "papermill": {
     "duration": null,
     "end_time": null,
     "exception": null,
     "start_time": null,
     "status": "pending"
    },
    "tags": []
   },
   "outputs": [],
   "source": [
    "# Convert the 'Date' column to numeric features\n",
    "df['Year'] = df['Date'].dt.year\n",
    "df['Month'] = df['Date'].dt.month\n",
    "df['Day'] = df['Date'].dt.day\n",
    "df['Hour'] = df['Date'].dt.hour\n",
    "\n",
    "# Drop the original 'Date' column since it's no longer needed\n",
    "df.drop(columns=['Date'], inplace=True)\n",
    "\n",
    "# Check if all columns are now numeric\n",
    "print(df.dtypes)"
   ]
  },
  {
   "cell_type": "code",
   "execution_count": null,
   "id": "cb4ab137",
   "metadata": {
    "papermill": {
     "duration": null,
     "end_time": null,
     "exception": null,
     "start_time": null,
     "status": "pending"
    },
    "tags": []
   },
   "outputs": [],
   "source": [
    "# Convert 'IsHoliday' column to numeric format\n",
    "df['IsHoliday'] = df['IsHoliday'].astype(int)"
   ]
  },
  {
   "cell_type": "code",
   "execution_count": null,
   "id": "12991c03",
   "metadata": {
    "papermill": {
     "duration": null,
     "end_time": null,
     "exception": null,
     "start_time": null,
     "status": "pending"
    },
    "scrolled": true,
    "tags": []
   },
   "outputs": [],
   "source": [
    "df.head()"
   ]
  },
  {
   "cell_type": "code",
   "execution_count": null,
   "id": "c57a1bb4",
   "metadata": {
    "papermill": {
     "duration": null,
     "end_time": null,
     "exception": null,
     "start_time": null,
     "status": "pending"
    },
    "tags": []
   },
   "outputs": [],
   "source": [
    "import numpy as np\n",
    "from sklearn.model_selection import train_test_split\n",
    "from tensorflow.keras.models import Sequential\n",
    "from tensorflow.keras.layers import LSTM, Dense\n",
    "\n",
    "sequence_length = 24 \n",
    "\n",
    "X_columns = ['Junction', 'Vehicles', 'DayOfWeek', 'Month', 'Year', 'IsHoliday',\n",
    "             'PreviousDayVehicles', 'PreviousHourVehicles']\n",
    "y_column = 'Vehicles'\n",
    "\n",
    "# Splitting the data into input sequences (X) and labels (y)\n",
    "X = []\n",
    "y = []\n",
    "\n",
    "data_array = df.values\n",
    "\n",
    "data_array = df[X_columns + [y_column]].values\n",
    "\n",
    "for i in range(len(data_array) - sequence_length):\n",
    "    X.append(data_array[i:i + sequence_length, :-1])  # Exclude last column\n",
    "    y.append(data_array[i + sequence_length, -1])  # Last column is target 'Vehicles'\n",
    "\n",
    "X = np.array(X)\n",
    "y = np.array(y)\n",
    "\n",
    "# Splitting the data into training and testing sets\n",
    "X_train, X_test, y_train, y_test = train_test_split(X, y, test_size=0.2, random_state=42)"
   ]
  },
  {
   "cell_type": "code",
   "execution_count": null,
   "id": "fab1a63c",
   "metadata": {
    "papermill": {
     "duration": null,
     "end_time": null,
     "exception": null,
     "start_time": null,
     "status": "pending"
    },
    "tags": []
   },
   "outputs": [],
   "source": [
    "# Building the LSTM model\n",
    "model = Sequential()\n",
    "model.add(LSTM(units=50, return_sequences=True, input_shape=(X_train.shape[1], X_train.shape[2])))\n",
    "model.add(LSTM(units=50))\n",
    "model.add(Dense(units=1))\n",
    "\n",
    "# Compiling the model\n",
    "model.compile(optimizer='adam', loss='mean_squared_error')\n",
    "\n",
    "# Training the model on the training data\n",
    "model.fit(X_train, y_train, epochs=30, batch_size=32, validation_split=0.2)"
   ]
  },
  {
   "cell_type": "code",
   "execution_count": null,
   "id": "97d525ad",
   "metadata": {
    "papermill": {
     "duration": null,
     "end_time": null,
     "exception": null,
     "start_time": null,
     "status": "pending"
    },
    "tags": []
   },
   "outputs": [],
   "source": [
    "# Evaluation \n",
    "\n",
    "loss = model.evaluate(X_test, y_test)\n",
    "print(f\"Test Loss: {loss}\")\n",
    "\n",
    "# Compare with training loss\n",
    "train_loss = model.evaluate(X_train, y_train)\n",
    "print(f\"Training Loss: {train_loss}\")"
   ]
  },
  {
   "cell_type": "code",
   "execution_count": null,
   "id": "db5af301",
   "metadata": {
    "papermill": {
     "duration": null,
     "end_time": null,
     "exception": null,
     "start_time": null,
     "status": "pending"
    },
    "tags": []
   },
   "outputs": [],
   "source": [
    "y_pred = model.predict(X_test)\n",
    "\n",
    "# Reshaping y_pred to a 2D array with shape (num_samples, 1)\n",
    "y_pred = y_pred.reshape(-1, 1)\n",
    "y_test = y_test.reshape(-1, 1)\n",
    "\n",
    "\n",
    "# Inverse transforming the predicted values to their original scale (if needed)\n",
    "y_pred_original = scaler.inverse_transform(y_pred)\n",
    "\n",
    "# Inverse transforming the actual test target values (y_test) to their original scale\n",
    "y_test_original = scaler.inverse_transform(y_test)"
   ]
  },
  {
   "cell_type": "code",
   "execution_count": null,
   "id": "61dcc56d",
   "metadata": {
    "papermill": {
     "duration": null,
     "end_time": null,
     "exception": null,
     "start_time": null,
     "status": "pending"
    },
    "tags": []
   },
   "outputs": [],
   "source": [
    "# Visualizing the results: \n",
    "\n",
    "# Plotting the actual 'Vehicles' values against the predicted values for the test dataset\n",
    "plt.figure(figsize=(12, 6))\n",
    "plt.plot(y_test_original, label='Actual Vehicles')\n",
    "plt.plot(y_pred_original, label='Predicted Vehicles')\n",
    "plt.xlabel('Time')\n",
    "plt.ylabel('Vehicles')\n",
    "plt.title('Actual vs. Predicted Vehicles')\n",
    "plt.legend()\n",
    "plt.show()"
   ]
  },
  {
   "cell_type": "code",
   "execution_count": null,
   "id": "4eca1f97",
   "metadata": {
    "papermill": {
     "duration": null,
     "end_time": null,
     "exception": null,
     "start_time": null,
     "status": "pending"
    },
    "tags": []
   },
   "outputs": [],
   "source": [
    "from sklearn.metrics import mean_absolute_error, mean_squared_error\n",
    "\n",
    "mae = mean_absolute_error(y_test_original, y_pred_original)\n",
    "mse = mean_squared_error(y_test_original, y_pred_original)\n",
    "rmse = np.sqrt(mse)\n",
    "\n",
    "print(\"Mean Absolute Error (MAE):\", mae)\n",
    "print(\"Mean Squared Error (MSE):\", mse)\n",
    "print(\"Root Mean Squared Error (RMSE):\", rmse)"
   ]
  },
  {
   "cell_type": "markdown",
   "id": "61f626cc",
   "metadata": {
    "papermill": {
     "duration": null,
     "end_time": null,
     "exception": null,
     "start_time": null,
     "status": "pending"
    },
    "tags": []
   },
   "source": [
    "In conclusion, the LSTM model demonstrates strong predictive capabilities for traffic forecasting. Its accurate predictions and low error metrics make it a valuable tool for traffic management and infrastructure planning in smart cities. However, it's essential to continue monitoring and refining the model regularly to ensure it maintains its accuracy over time and adapts to any changes in traffic patterns or other factors affecting traffic."
   ]
  },
  {
   "cell_type": "markdown",
   "id": "5ff4044d",
   "metadata": {
    "papermill": {
     "duration": null,
     "end_time": null,
     "exception": null,
     "start_time": null,
     "status": "pending"
    },
    "tags": []
   },
   "source": [
    "# Analyzing Forecasted Traffic Patterns"
   ]
  },
  {
   "cell_type": "markdown",
   "id": "0a8ab727",
   "metadata": {
    "papermill": {
     "duration": null,
     "end_time": null,
     "exception": null,
     "start_time": null,
     "status": "pending"
    },
    "tags": []
   },
   "source": [
    "## Plotting the Forecasted vs. Actual Traffic Counts"
   ]
  },
  {
   "cell_type": "code",
   "execution_count": null,
   "id": "20cd08ba",
   "metadata": {
    "papermill": {
     "duration": null,
     "end_time": null,
     "exception": null,
     "start_time": null,
     "status": "pending"
    },
    "tags": []
   },
   "outputs": [],
   "source": [
    "df['DateTime'] = pd.to_datetime(df[['Year', 'Month', 'Day', 'Hour']])\n",
    "df.head()"
   ]
  },
  {
   "cell_type": "code",
   "execution_count": null,
   "id": "7c9fafe4",
   "metadata": {
    "papermill": {
     "duration": null,
     "end_time": null,
     "exception": null,
     "start_time": null,
     "status": "pending"
    },
    "tags": []
   },
   "outputs": [],
   "source": [
    "# Getting the timestamp for the test data\n",
    "test_timestamps = df.iloc[-len(y_test_original):]['DateTime']\n",
    "\n",
    "# Creating a figure and plot the actual traffic counts\n",
    "plt.figure(figsize=(12, 6))\n",
    "plt.plot(test_timestamps, y_test_original, label='Actual Traffic Counts', color='blue')\n",
    "\n",
    "# Getting the timestamp for the forecasted data\n",
    "forecasted_timestamps = df.iloc[-len(y_test_original):]['DateTime']\n",
    "\n",
    "# Plotting the predicted traffic counts for the corresponding time period\n",
    "plt.plot(forecasted_timestamps, y_pred_original, label='Forecasted Traffic Counts', color='red')\n",
    "\n",
    "plt.xlabel('Date')\n",
    "plt.ylabel('Traffic Counts')\n",
    "plt.title('Forecasted vs. Actual Traffic Counts')\n",
    "plt.legend()\n",
    "plt.grid(True)\n",
    "plt.show()"
   ]
  },
  {
   "cell_type": "markdown",
   "id": "d7410a62",
   "metadata": {
    "papermill": {
     "duration": null,
     "end_time": null,
     "exception": null,
     "start_time": null,
     "status": "pending"
    },
    "tags": []
   },
   "source": [
    "Since the predicted traffic counts only occupy a small part at the end of the graph, it indicates that the model's predictions are trailing the actual traffic counts for the test dataset."
   ]
  },
  {
   "cell_type": "markdown",
   "id": "a00014d1",
   "metadata": {
    "papermill": {
     "duration": null,
     "end_time": null,
     "exception": null,
     "start_time": null,
     "status": "pending"
    },
    "tags": []
   },
   "source": [
    "## Visualizing Trends"
   ]
  },
  {
   "cell_type": "markdown",
   "id": "855abfac",
   "metadata": {
    "papermill": {
     "duration": null,
     "end_time": null,
     "exception": null,
     "start_time": null,
     "status": "pending"
    },
    "tags": []
   },
   "source": [
    "This plot will help us identify any monthly trends in traffic."
   ]
  },
  {
   "cell_type": "code",
   "execution_count": null,
   "id": "1e1d6a62",
   "metadata": {
    "papermill": {
     "duration": null,
     "end_time": null,
     "exception": null,
     "start_time": null,
     "status": "pending"
    },
    "tags": []
   },
   "outputs": [],
   "source": [
    "import seaborn as sns\n",
    "# Extracting Year and Month from the DateTime column\n",
    "df['Year'] = df['DateTime'].dt.year\n",
    "df['Month'] = df['DateTime'].dt.month\n",
    "\n",
    "# Grouping the data by Year and Month and calculate the average traffic counts for each month\n",
    "monthly_traffic = df.groupby(['Year', 'Month'])['Vehicles'].mean().reset_index()\n",
    "\n",
    "# Plotting the average traffic counts by month\n",
    "plt.figure(figsize=(10, 6))\n",
    "sns.lineplot(x='Month', y='Vehicles', hue='Year', data=monthly_traffic)\n",
    "plt.xlabel('Month')\n",
    "plt.ylabel('Average Traffic Counts')\n",
    "plt.title('Monthly Average Traffic Counts')\n",
    "plt.legend(title='Year', loc='upper right')\n",
    "plt.grid(True)\n",
    "plt.show()"
   ]
  },
  {
   "cell_type": "markdown",
   "id": "920638ff",
   "metadata": {
    "papermill": {
     "duration": null,
     "end_time": null,
     "exception": null,
     "start_time": null,
     "status": "pending"
    },
    "tags": []
   },
   "source": [
    "## Analyzing Seasonal Variations"
   ]
  },
  {
   "cell_type": "markdown",
   "id": "dd86a787",
   "metadata": {
    "papermill": {
     "duration": null,
     "end_time": null,
     "exception": null,
     "start_time": null,
     "status": "pending"
    },
    "tags": []
   },
   "source": [
    "This plot with the seasonal decomposition will reveal the seasonal variations and recurring patterns in the forecasted data."
   ]
  },
  {
   "cell_type": "code",
   "execution_count": null,
   "id": "a889df5a",
   "metadata": {
    "papermill": {
     "duration": null,
     "end_time": null,
     "exception": null,
     "start_time": null,
     "status": "pending"
    },
    "tags": []
   },
   "outputs": [],
   "source": [
    "import statsmodels.api as sm\n",
    "\n",
    "# Decomposing the time series into trend, seasonal, and residual components\n",
    "decomposition = sm.tsa.seasonal_decompose(df['Vehicles'], model='additive', period=24*7)  # Assuming a weekly seasonality\n",
    "\n",
    "# Plotting the components\n",
    "plt.figure(figsize=(12, 8))\n",
    "plt.subplot(4, 1, 1)\n",
    "plt.plot(decomposition.trend)\n",
    "plt.ylabel('Trend')\n",
    "plt.title('Trend Component')\n",
    "plt.grid(True)\n",
    "\n",
    "plt.subplot(4, 1, 2)\n",
    "plt.plot(decomposition.seasonal)\n",
    "plt.ylabel('Seasonal')\n",
    "plt.title('Seasonal Component')\n",
    "plt.grid(True)\n",
    "\n",
    "plt.subplot(4, 1, 3)\n",
    "plt.plot(decomposition.resid)\n",
    "plt.ylabel('Residual')\n",
    "plt.title('Residual Component')\n",
    "plt.grid(True)\n",
    "\n",
    "plt.subplot(4, 1, 4)\n",
    "plt.plot(df['Vehicles'])\n",
    "plt.ylabel('Traffic Counts')\n",
    "plt.title('Original Data')\n",
    "plt.grid(True)\n",
    "\n",
    "plt.tight_layout()\n",
    "plt.show()\n"
   ]
  },
  {
   "cell_type": "markdown",
   "id": "9094b96d",
   "metadata": {
    "papermill": {
     "duration": null,
     "end_time": null,
     "exception": null,
     "start_time": null,
     "status": "pending"
    },
    "tags": []
   },
   "source": [
    "# Infrastructure Planning"
   ]
  },
  {
   "cell_type": "markdown",
   "id": "6e0fdf07",
   "metadata": {
    "papermill": {
     "duration": null,
     "end_time": null,
     "exception": null,
     "start_time": null,
     "status": "pending"
    },
    "tags": []
   },
   "source": [
    "## Design a Robust Traffic Management System"
   ]
  },
  {
   "cell_type": "markdown",
   "id": "a3ab563b",
   "metadata": {
    "papermill": {
     "duration": null,
     "end_time": null,
     "exception": null,
     "start_time": null,
     "status": "pending"
    },
    "tags": []
   },
   "source": [
    "Designing a dynamic traffic management system that adapts to peak traffic hours and efficiently handles the increased load during those hours."
   ]
  },
  {
   "cell_type": "code",
   "execution_count": null,
   "id": "985834c3",
   "metadata": {
    "papermill": {
     "duration": null,
     "end_time": null,
     "exception": null,
     "start_time": null,
     "status": "pending"
    },
    "tags": []
   },
   "outputs": [],
   "source": [
    "df['HourOfDay'] = df['DateTime'].dt.hour\n",
    "df.head()"
   ]
  },
  {
   "cell_type": "code",
   "execution_count": null,
   "id": "a4fc69b4",
   "metadata": {
    "papermill": {
     "duration": null,
     "end_time": null,
     "exception": null,
     "start_time": null,
     "status": "pending"
    },
    "tags": []
   },
   "outputs": [],
   "source": [
    "peak_traffic_hours = df[(df['HourOfDay'] >= 7) & (df['HourOfDay'] <= 10)]  # Assumed peak traffic hours from 7 AM to 10 AM\n",
    "\n",
    "# Visualize peak traffic hours\n",
    "plt.figure(figsize=(12, 6))\n",
    "plt.plot(df['DateTime'], df['Vehicles'], label='Traffic Counts')\n",
    "plt.scatter(peak_traffic_hours['DateTime'], peak_traffic_hours['Vehicles'], color='purple', label='Peak Traffic Hours')\n",
    "plt.xlabel('Date')\n",
    "plt.ylabel('Traffic Counts')\n",
    "plt.title('Peak Traffic Hours')\n",
    "plt.legend()\n",
    "plt.grid(True)\n",
    "plt.show()"
   ]
  }
 ],
 "metadata": {
  "kernelspec": {
   "display_name": "Python 3 (ipykernel)",
   "language": "python",
   "name": "python3"
  },
  "language_info": {
   "codemirror_mode": {
    "name": "ipython",
    "version": 3
   },
   "file_extension": ".py",
   "mimetype": "text/x-python",
   "name": "python",
   "nbconvert_exporter": "python",
   "pygments_lexer": "ipython3",
   "version": "3.11.4"
  },
  "papermill": {
   "default_parameters": {},
   "duration": 28.066895,
   "end_time": "2023-08-21T02:56:50.411945",
   "environment_variables": {},
   "exception": true,
   "input_path": "__notebook__.ipynb",
   "output_path": "__notebook__.ipynb",
   "parameters": {},
   "start_time": "2023-08-21T02:56:22.345050",
   "version": "2.4.0"
  }
 },
 "nbformat": 4,
 "nbformat_minor": 5
}
